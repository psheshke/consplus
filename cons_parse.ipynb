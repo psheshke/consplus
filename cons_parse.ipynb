{
 "cells": [
  {
   "cell_type": "code",
   "execution_count": 2,
   "metadata": {},
   "outputs": [],
   "source": [
    "import json\n",
    "import requests\n",
    "import pandas as pd\n",
    "from bs4 import BeautifulSoup"
   ]
  },
  {
   "cell_type": "code",
   "execution_count": 90,
   "metadata": {},
   "outputs": [],
   "source": [
    "years = [2020, 2021, 2022]\n",
    "filename = 'work_days'"
   ]
  },
  {
   "cell_type": "code",
   "execution_count": 95,
   "metadata": {
    "scrolled": true
   },
   "outputs": [],
   "source": [
    "months = {\n",
    "    1: 'Январь',\n",
    "    2: 'Февраль',\n",
    "    3: 'Март',\n",
    "    4: 'Апрель',\n",
    "    5: 'Май',\n",
    "    6: 'Июнь',\n",
    "    7: 'Июль',\n",
    "    8: 'Август',\n",
    "    9: 'Сентябрь',\n",
    "    10: 'Окртябрь',\n",
    "    11: 'Ноябрь', \n",
    "    12: 'Декабрь'\n",
    "}\n",
    "\n",
    "dfs = []\n",
    "\n",
    "for year in years:\n",
    "    \n",
    "    href = f'http://www.consultant.ru/law/ref/calendar/proizvodstvennye/{year}/'\n",
    "    \n",
    "    s = requests.get(href)\n",
    "    \n",
    "    soup = BeautifulSoup(s.content, 'html.parser')\n",
    "    \n",
    "    if year != 2020:\n",
    "        l = [0, 1, 2, 6, 7, 8, 12, 13, 14, 18, 19, 20]\n",
    "    else:\n",
    "        l = [0, 1, 2, 3, 4, 5, 6, 7, 8, 9, 10, 11]\n",
    "    \n",
    "    m = 0\n",
    "    d = {'month': [], 'work_days': []}\n",
    "    cols = soup.find_all('div', class_='col-md-3 col-xs-2')\n",
    "    for i in l:\n",
    "        m += 1\n",
    "        d['month'].append(months[m])\n",
    "        d['work_days'].append(int(cols[i].text.replace('\\t', '').split('\\n')[2]))\n",
    "        \n",
    "    dfs.append([year, pd.DataFrame(d)])\n",
    "with pd.ExcelWriter(f'{filename}.xlsx') as writer:\n",
    "    for d in dfs:\n",
    "        d[1].to_excel(writer, sheet_name=str(d[0]), index=False)"
   ]
  }
 ],
 "metadata": {
  "kernelspec": {
   "display_name": "Python 3",
   "language": "python",
   "name": "python3"
  },
  "language_info": {
   "codemirror_mode": {
    "name": "ipython",
    "version": 3
   },
   "file_extension": ".py",
   "mimetype": "text/x-python",
   "name": "python",
   "nbconvert_exporter": "python",
   "pygments_lexer": "ipython3",
   "version": "3.8.5"
  }
 },
 "nbformat": 4,
 "nbformat_minor": 4
}
